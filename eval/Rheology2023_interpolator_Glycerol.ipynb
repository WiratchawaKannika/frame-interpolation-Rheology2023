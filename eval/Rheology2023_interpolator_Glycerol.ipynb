{
 "cells": [
  {
   "cell_type": "code",
   "execution_count": 2,
   "id": "384bb568",
   "metadata": {},
   "outputs": [],
   "source": [
    "import os\n",
    "from typing import Sequence\n",
    "import glob\n",
    "import pandas as pd\n",
    "from absl import app\n",
    "from absl import flags\n",
    "import numpy as np"
   ]
  },
  {
   "cell_type": "code",
   "execution_count": 3,
   "id": "eb6b6ca0",
   "metadata": {},
   "outputs": [],
   "source": [
    "_Gen_Broken = flags.DEFINE_integer(name='genbroken', default=0,\n",
    "                    help='0: No gen Images Broken, 1:gen images Broken.')"
   ]
  },
  {
   "cell_type": "code",
   "execution_count": null,
   "id": "dd9eeb34",
   "metadata": {},
   "outputs": [],
   "source": []
  },
  {
   "cell_type": "code",
   "execution_count": null,
   "id": "0c06a1ac",
   "metadata": {},
   "outputs": [],
   "source": []
  },
  {
   "cell_type": "code",
   "execution_count": null,
   "id": "c815b29b",
   "metadata": {},
   "outputs": [],
   "source": []
  },
  {
   "cell_type": "code",
   "execution_count": null,
   "id": "f5b6eb9c",
   "metadata": {},
   "outputs": [],
   "source": []
  },
  {
   "cell_type": "code",
   "execution_count": null,
   "id": "082d0f23",
   "metadata": {},
   "outputs": [],
   "source": []
  }
 ],
 "metadata": {
  "kernelspec": {
   "display_name": "FILM",
   "language": "python",
   "name": "film"
  },
  "language_info": {
   "codemirror_mode": {
    "name": "ipython",
    "version": 3
   },
   "file_extension": ".py",
   "mimetype": "text/x-python",
   "name": "python",
   "nbconvert_exporter": "python",
   "pygments_lexer": "ipython3",
   "version": "3.9.15"
  }
 },
 "nbformat": 4,
 "nbformat_minor": 5
}
