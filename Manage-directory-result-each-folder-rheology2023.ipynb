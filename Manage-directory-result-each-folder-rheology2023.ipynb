{
 "cells": [
  {
   "cell_type": "code",
   "execution_count": 3,
   "id": "a70b4a6f",
   "metadata": {},
   "outputs": [],
   "source": [
    "import json \n",
    "import pandas as pd\n",
    "import numpy as np\n",
    "from pathlib import Path\n",
    "import PIL\n",
    "from PIL import Image\n",
    "import os"
   ]
  },
  {
   "cell_type": "markdown",
   "id": "bc2300db",
   "metadata": {},
   "source": [
    "# 📂 IMport Random Directory"
   ]
  },
  {
   "cell_type": "code",
   "execution_count": 4,
   "id": "0cecf4b9",
   "metadata": {},
   "outputs": [
    {
     "name": "stdout",
     "output_type": "stream",
     "text": [
      "(40, 2)\n"
     ]
    },
    {
     "data": {
      "text/html": [
       "<div>\n",
       "<style scoped>\n",
       "    .dataframe tbody tr th:only-of-type {\n",
       "        vertical-align: middle;\n",
       "    }\n",
       "\n",
       "    .dataframe tbody tr th {\n",
       "        vertical-align: top;\n",
       "    }\n",
       "\n",
       "    .dataframe thead th {\n",
       "        text-align: right;\n",
       "    }\n",
       "</style>\n",
       "<table border=\"1\" class=\"dataframe\">\n",
       "  <thead>\n",
       "    <tr style=\"text-align: right;\">\n",
       "      <th></th>\n",
       "      <th>Unnamed: 0</th>\n",
       "      <th>FolderPath</th>\n",
       "    </tr>\n",
       "  </thead>\n",
       "  <tbody>\n",
       "    <tr>\n",
       "      <th>0</th>\n",
       "      <td>0</td>\n",
       "      <td>/media/SSD/rheology2023/DI/P0100_D0_30HZ_20XIN...</td>\n",
       "    </tr>\n",
       "    <tr>\n",
       "      <th>1</th>\n",
       "      <td>1</td>\n",
       "      <td>/media/SSD/rheology2023/DI/P0100_D0_30HZ_20XIN...</td>\n",
       "    </tr>\n",
       "    <tr>\n",
       "      <th>2</th>\n",
       "      <td>2</td>\n",
       "      <td>/media/SSD/rheology2023/DI/P0100_D0_30HZ_20XIN...</td>\n",
       "    </tr>\n",
       "    <tr>\n",
       "      <th>3</th>\n",
       "      <td>3</td>\n",
       "      <td>/media/SSD/rheology2023/DI/P0100_D0_30HZ_20XIN...</td>\n",
       "    </tr>\n",
       "    <tr>\n",
       "      <th>4</th>\n",
       "      <td>4</td>\n",
       "      <td>/media/SSD/rheology2023/DI/P0100_D0_30HZ_20XIN...</td>\n",
       "    </tr>\n",
       "  </tbody>\n",
       "</table>\n",
       "</div>"
      ],
      "text/plain": [
       "   Unnamed: 0                                         FolderPath\n",
       "0           0  /media/SSD/rheology2023/DI/P0100_D0_30HZ_20XIN...\n",
       "1           1  /media/SSD/rheology2023/DI/P0100_D0_30HZ_20XIN...\n",
       "2           2  /media/SSD/rheology2023/DI/P0100_D0_30HZ_20XIN...\n",
       "3           3  /media/SSD/rheology2023/DI/P0100_D0_30HZ_20XIN...\n",
       "4           4  /media/SSD/rheology2023/DI/P0100_D0_30HZ_20XIN..."
      ]
     },
     "execution_count": 4,
     "metadata": {},
     "output_type": "execute_result"
    }
   ],
   "source": [
    "ranfold= pd.read_csv('/home/kannika/codes_AI/CSV/rheology2023_random40folder.csv')\n",
    "print(ranfold.shape)\n",
    "ranfold.head()"
   ]
  },
  {
   "cell_type": "code",
   "execution_count": 5,
   "id": "b2b70a79",
   "metadata": {
    "scrolled": true
   },
   "outputs": [
    {
     "name": "stdout",
     "output_type": "stream",
     "text": [
      "40\n"
     ]
    },
    {
     "data": {
      "text/plain": [
       "['/media/SSD/rheology2023/DI/P0100_D0_30HZ_20XINF_UWELL_20221222_174116',\n",
       " '/media/SSD/rheology2023/DI/P0100_D0_30HZ_20XINF_UWELL_20221222_182704',\n",
       " '/media/SSD/rheology2023/DI/P0100_D0_30HZ_20XINF_UWELL_20221223_122706',\n",
       " '/media/SSD/rheology2023/DI/P0100_D0_30HZ_20XINF_UWELL_20221222_214317',\n",
       " '/media/SSD/rheology2023/DI/P0100_D0_30HZ_20XINF_UWELL_20221222_215050',\n",
       " '/media/SSD/rheology2023/SalivaTU/SAL00_D0_30HZ_20XINF_UWELL_20221226_121950',\n",
       " '/media/SSD/rheology2023/SalivaTU/SAL00_D0_30HZ_20XINF_UWELL_20221229_055220',\n",
       " '/media/SSD/rheology2023/SalivaTU/SAL00_D0_30HZ_20XINF_UWELL_20221226_123202',\n",
       " '/media/SSD/rheology2023/SalivaTU/SAL00_D0_30HZ_20XINF_UWELL_20221226_120633',\n",
       " '/media/SSD/rheology2023/SalivaTU/SAL00_D0_30HZ_20XINF_UWELL_20221229_055529',\n",
       " '/media/SSD/rheology2023/Glycerol/GLY10/GLY10P100_D0_30HZ_20XINF_UWELL_20221230_072204',\n",
       " '/media/SSD/rheology2023/Glycerol/GLY10/GLY10P100_D0_30HZ_20XINF_UWELL_20221230_074912',\n",
       " '/media/SSD/rheology2023/Glycerol/GLY10/GLY10P100_D0_30HZ_20XINF_UWELL_20221229_204812',\n",
       " '/media/SSD/rheology2023/Glycerol/GLY10/GLY10P100_D0_30HZ_20XINF_UWELL_20221230_071956',\n",
       " '/media/SSD/rheology2023/Glycerol/GLY10/GLY10P100_D0_30HZ_20XINF_UWELL_20221229_193350',\n",
       " '/media/SSD/rheology2023/Glycerol/GLY30/GLY30P100_D0_30HZ_20XINF_UWELL_20221229_155527',\n",
       " '/media/SSD/rheology2023/Glycerol/GLY30/GLY30P100_D0_30HZ_20XINF_UWELL_20221228_161452',\n",
       " '/media/SSD/rheology2023/Glycerol/GLY30/GLY30P100_D0_30HZ_20XINF_UWELL_20221228_145100',\n",
       " '/media/SSD/rheology2023/Glycerol/GLY30/GLY30P100_D0_30HZ_20XINF_UWELL_20221229_164322',\n",
       " '/media/SSD/rheology2023/Glycerol/GLY30/GLY30P100_D0_30HZ_20XINF_UWELL_20221228_151430',\n",
       " '/media/SSD/rheology2023/Glycerol/GLY60/GLY60P100_D0_30HZ_20XINF_UWELL_20221228_063932',\n",
       " '/media/SSD/rheology2023/Glycerol/GLY60/GLY60P100_D0_30HZ_20XINF_UWELL_20221228_090816',\n",
       " '/media/SSD/rheology2023/Glycerol/GLY60/GLY60P100_D0_30HZ_20XINF_UWELL_20221228_064454',\n",
       " '/media/SSD/rheology2023/Glycerol/GLY60/GLY60P100_D0_30HZ_20XINF_UWELL_20221228_082049',\n",
       " '/media/SSD/rheology2023/Glycerol/GLY60/GLY60P100_D0_30HZ_20XINF_UWELL_20221228_065231',\n",
       " '/media/SSD/rheology2023/Glycerol/GLY20/GLY20P100_D0_30HZ_20XINF_UWELL_20221227_100941',\n",
       " '/media/SSD/rheology2023/Glycerol/GLY20/GLY20P100_D0_30HZ_20XINF_UWELL_20221227_160237',\n",
       " '/media/SSD/rheology2023/Glycerol/GLY20/GLY20P100_D0_30HZ_20XINF_UWELL_20221227_093937',\n",
       " '/media/SSD/rheology2023/Glycerol/GLY20/GLY20P100_D0_30HZ_20XINF_UWELL_20221227_155531',\n",
       " '/media/SSD/rheology2023/Glycerol/GLY20/GLY20P100_D0_30HZ_20XINF_UWELL_20221227_091417',\n",
       " '/media/SSD/rheology2023/Glycerol/GLY40/GLY40P100_D0_30HZ_20XINF_UWELL_20221227_203150',\n",
       " '/media/SSD/rheology2023/Glycerol/GLY40/GLY40P100_D0_30HZ_20XINF_UWELL_20221227_195610',\n",
       " '/media/SSD/rheology2023/Glycerol/GLY40/GLY40P100_D0_30HZ_20XINF_UWELL_20221230_091704',\n",
       " '/media/SSD/rheology2023/Glycerol/GLY40/GLY40P100_D0_30HZ_20XINF_UWELL_20221227_195148',\n",
       " '/media/SSD/rheology2023/Glycerol/GLY40/GLY40P100_D0_30HZ_20XINF_UWELL_20221227_193632',\n",
       " '/media/SSD/rheology2023/Glycerol/GLY80/GLY80P100_D0_30HZ_20XINF_UWELL_20221228_115038',\n",
       " '/media/SSD/rheology2023/Glycerol/GLY80/GLY80P100_D0_30HZ_20XINF_UWELL_20221228_122311',\n",
       " '/media/SSD/rheology2023/Glycerol/GLY80/GLY80P100_D0_30HZ_20XINF_UWELL_20221228_115310',\n",
       " '/media/SSD/rheology2023/Glycerol/GLY80/GLY80P100_D0_30HZ_20XINF_UWELL_20221228_121932',\n",
       " '/media/SSD/rheology2023/Glycerol/GLY80/GLY80P100_D0_30HZ_20XINF_UWELL_20221228_115540']"
      ]
     },
     "execution_count": 5,
     "metadata": {},
     "output_type": "execute_result"
    }
   ],
   "source": [
    "FolderPath = ranfold['FolderPath'].tolist()\n",
    "print(len(FolderPath))\n",
    "FolderPath"
   ]
  },
  {
   "cell_type": "markdown",
   "id": "9550855e",
   "metadata": {},
   "source": [
    "# 🌺Create sequence folder"
   ]
  },
  {
   "cell_type": "code",
   "execution_count": 6,
   "id": "65491071",
   "metadata": {},
   "outputs": [],
   "source": [
    "## ** Set Modrl Inter Frame\n",
    "Model_inter = \"FILM_Model\""
   ]
  },
  {
   "cell_type": "code",
   "execution_count": 7,
   "id": "a958ff65",
   "metadata": {
    "scrolled": true
   },
   "outputs": [
    {
     "name": "stdout",
     "output_type": "stream",
     "text": [
      "On process Create Folder -->> [ /media/SSD/Frame_Inter_rheology2023/Frame_Inter/FILM_Model/DI/P0100_D0_30HZ_20XINF_UWELL_20221222_174116-sequence ]\n",
      "On process Create Folder -->> [ /media/SSD/Frame_Inter_rheology2023/Frame_Inter/FILM_Model/DI/P0100_D0_30HZ_20XINF_UWELL_20221222_182704-sequence ]\n",
      "On process Create Folder -->> [ /media/SSD/Frame_Inter_rheology2023/Frame_Inter/FILM_Model/DI/P0100_D0_30HZ_20XINF_UWELL_20221223_122706-sequence ]\n",
      "On process Create Folder -->> [ /media/SSD/Frame_Inter_rheology2023/Frame_Inter/FILM_Model/DI/P0100_D0_30HZ_20XINF_UWELL_20221222_214317-sequence ]\n",
      "On process Create Folder -->> [ /media/SSD/Frame_Inter_rheology2023/Frame_Inter/FILM_Model/DI/P0100_D0_30HZ_20XINF_UWELL_20221222_215050-sequence ]\n",
      "On process Create Folder -->> [ /media/SSD/Frame_Inter_rheology2023/Frame_Inter/FILM_Model/SalivaTU/SAL00_D0_30HZ_20XINF_UWELL_20221226_121950-sequence ]\n",
      "On process Create Folder -->> [ /media/SSD/Frame_Inter_rheology2023/Frame_Inter/FILM_Model/SalivaTU/SAL00_D0_30HZ_20XINF_UWELL_20221229_055220-sequence ]\n",
      "On process Create Folder -->> [ /media/SSD/Frame_Inter_rheology2023/Frame_Inter/FILM_Model/SalivaTU/SAL00_D0_30HZ_20XINF_UWELL_20221226_123202-sequence ]\n",
      "On process Create Folder -->> [ /media/SSD/Frame_Inter_rheology2023/Frame_Inter/FILM_Model/SalivaTU/SAL00_D0_30HZ_20XINF_UWELL_20221226_120633-sequence ]\n",
      "On process Create Folder -->> [ /media/SSD/Frame_Inter_rheology2023/Frame_Inter/FILM_Model/SalivaTU/SAL00_D0_30HZ_20XINF_UWELL_20221229_055529-sequence ]\n",
      "On process Create Folder -->> [ /media/SSD/Frame_Inter_rheology2023/Frame_Inter/FILM_Model/Glycerol/GLY10/GLY10P100_D0_30HZ_20XINF_UWELL_20221230_072204-sequence ]\n",
      "On process Create Folder -->> [ /media/SSD/Frame_Inter_rheology2023/Frame_Inter/FILM_Model/Glycerol/GLY10/GLY10P100_D0_30HZ_20XINF_UWELL_20221230_074912-sequence ]\n",
      "On process Create Folder -->> [ /media/SSD/Frame_Inter_rheology2023/Frame_Inter/FILM_Model/Glycerol/GLY10/GLY10P100_D0_30HZ_20XINF_UWELL_20221229_204812-sequence ]\n",
      "On process Create Folder -->> [ /media/SSD/Frame_Inter_rheology2023/Frame_Inter/FILM_Model/Glycerol/GLY10/GLY10P100_D0_30HZ_20XINF_UWELL_20221230_071956-sequence ]\n",
      "On process Create Folder -->> [ /media/SSD/Frame_Inter_rheology2023/Frame_Inter/FILM_Model/Glycerol/GLY10/GLY10P100_D0_30HZ_20XINF_UWELL_20221229_193350-sequence ]\n",
      "On process Create Folder -->> [ /media/SSD/Frame_Inter_rheology2023/Frame_Inter/FILM_Model/Glycerol/GLY30/GLY30P100_D0_30HZ_20XINF_UWELL_20221229_155527-sequence ]\n",
      "On process Create Folder -->> [ /media/SSD/Frame_Inter_rheology2023/Frame_Inter/FILM_Model/Glycerol/GLY30/GLY30P100_D0_30HZ_20XINF_UWELL_20221228_161452-sequence ]\n",
      "On process Create Folder -->> [ /media/SSD/Frame_Inter_rheology2023/Frame_Inter/FILM_Model/Glycerol/GLY30/GLY30P100_D0_30HZ_20XINF_UWELL_20221228_145100-sequence ]\n",
      "On process Create Folder -->> [ /media/SSD/Frame_Inter_rheology2023/Frame_Inter/FILM_Model/Glycerol/GLY30/GLY30P100_D0_30HZ_20XINF_UWELL_20221229_164322-sequence ]\n",
      "On process Create Folder -->> [ /media/SSD/Frame_Inter_rheology2023/Frame_Inter/FILM_Model/Glycerol/GLY30/GLY30P100_D0_30HZ_20XINF_UWELL_20221228_151430-sequence ]\n",
      "On process Create Folder -->> [ /media/SSD/Frame_Inter_rheology2023/Frame_Inter/FILM_Model/Glycerol/GLY60/GLY60P100_D0_30HZ_20XINF_UWELL_20221228_063932-sequence ]\n",
      "On process Create Folder -->> [ /media/SSD/Frame_Inter_rheology2023/Frame_Inter/FILM_Model/Glycerol/GLY60/GLY60P100_D0_30HZ_20XINF_UWELL_20221228_090816-sequence ]\n",
      "On process Create Folder -->> [ /media/SSD/Frame_Inter_rheology2023/Frame_Inter/FILM_Model/Glycerol/GLY60/GLY60P100_D0_30HZ_20XINF_UWELL_20221228_064454-sequence ]\n",
      "On process Create Folder -->> [ /media/SSD/Frame_Inter_rheology2023/Frame_Inter/FILM_Model/Glycerol/GLY60/GLY60P100_D0_30HZ_20XINF_UWELL_20221228_082049-sequence ]\n",
      "On process Create Folder -->> [ /media/SSD/Frame_Inter_rheology2023/Frame_Inter/FILM_Model/Glycerol/GLY60/GLY60P100_D0_30HZ_20XINF_UWELL_20221228_065231-sequence ]\n",
      "On process Create Folder -->> [ /media/SSD/Frame_Inter_rheology2023/Frame_Inter/FILM_Model/Glycerol/GLY20/GLY20P100_D0_30HZ_20XINF_UWELL_20221227_100941-sequence ]\n",
      "On process Create Folder -->> [ /media/SSD/Frame_Inter_rheology2023/Frame_Inter/FILM_Model/Glycerol/GLY20/GLY20P100_D0_30HZ_20XINF_UWELL_20221227_160237-sequence ]\n",
      "On process Create Folder -->> [ /media/SSD/Frame_Inter_rheology2023/Frame_Inter/FILM_Model/Glycerol/GLY20/GLY20P100_D0_30HZ_20XINF_UWELL_20221227_093937-sequence ]\n",
      "On process Create Folder -->> [ /media/SSD/Frame_Inter_rheology2023/Frame_Inter/FILM_Model/Glycerol/GLY20/GLY20P100_D0_30HZ_20XINF_UWELL_20221227_155531-sequence ]\n",
      "On process Create Folder -->> [ /media/SSD/Frame_Inter_rheology2023/Frame_Inter/FILM_Model/Glycerol/GLY20/GLY20P100_D0_30HZ_20XINF_UWELL_20221227_091417-sequence ]\n",
      "On process Create Folder -->> [ /media/SSD/Frame_Inter_rheology2023/Frame_Inter/FILM_Model/Glycerol/GLY40/GLY40P100_D0_30HZ_20XINF_UWELL_20221227_203150-sequence ]\n",
      "On process Create Folder -->> [ /media/SSD/Frame_Inter_rheology2023/Frame_Inter/FILM_Model/Glycerol/GLY40/GLY40P100_D0_30HZ_20XINF_UWELL_20221227_195610-sequence ]\n",
      "On process Create Folder -->> [ /media/SSD/Frame_Inter_rheology2023/Frame_Inter/FILM_Model/Glycerol/GLY40/GLY40P100_D0_30HZ_20XINF_UWELL_20221230_091704-sequence ]\n",
      "On process Create Folder -->> [ /media/SSD/Frame_Inter_rheology2023/Frame_Inter/FILM_Model/Glycerol/GLY40/GLY40P100_D0_30HZ_20XINF_UWELL_20221227_195148-sequence ]\n",
      "On process Create Folder -->> [ /media/SSD/Frame_Inter_rheology2023/Frame_Inter/FILM_Model/Glycerol/GLY40/GLY40P100_D0_30HZ_20XINF_UWELL_20221227_193632-sequence ]\n",
      "On process Create Folder -->> [ /media/SSD/Frame_Inter_rheology2023/Frame_Inter/FILM_Model/Glycerol/GLY80/GLY80P100_D0_30HZ_20XINF_UWELL_20221228_115038-sequence ]\n",
      "On process Create Folder -->> [ /media/SSD/Frame_Inter_rheology2023/Frame_Inter/FILM_Model/Glycerol/GLY80/GLY80P100_D0_30HZ_20XINF_UWELL_20221228_122311-sequence ]\n",
      "On process Create Folder -->> [ /media/SSD/Frame_Inter_rheology2023/Frame_Inter/FILM_Model/Glycerol/GLY80/GLY80P100_D0_30HZ_20XINF_UWELL_20221228_115310-sequence ]\n",
      "On process Create Folder -->> [ /media/SSD/Frame_Inter_rheology2023/Frame_Inter/FILM_Model/Glycerol/GLY80/GLY80P100_D0_30HZ_20XINF_UWELL_20221228_121932-sequence ]\n",
      "On process Create Folder -->> [ /media/SSD/Frame_Inter_rheology2023/Frame_Inter/FILM_Model/Glycerol/GLY80/GLY80P100_D0_30HZ_20XINF_UWELL_20221228_115540-sequence ]\n"
     ]
    }
   ],
   "source": [
    "lst_Folder2cre = []\n",
    "for i in range(len(FolderPath)):\n",
    "    FolderPath0 = FolderPath[i]\n",
    "    Folder2cre = FolderPath0.replace(\"rheology2023\", f\"Frame_Inter_rheology2023/Frame_Inter/{Model_inter}\")\n",
    "    Folder2cre_ = Folder2cre+'-sequence'\n",
    "    lst_Folder2cre.append(Folder2cre_)\n",
    "    print(f'On process Create Folder -->> [ {Folder2cre_} ]')\n",
    "    os.makedirs(Folder2cre_, exist_ok=True)"
   ]
  },
  {
   "cell_type": "markdown",
   "id": "a40ca0a2",
   "metadata": {},
   "source": [
    "# 🌺 Copy() image to all Directory"
   ]
  },
  {
   "cell_type": "code",
   "execution_count": 9,
   "id": "dcf37f08",
   "metadata": {},
   "outputs": [
    {
     "name": "stdout",
     "output_type": "stream",
     "text": [
      "On process Copy Images from Original Folder -->> [ /media/SSD/rheology2023/DI/P0100_D0_30HZ_20XINF_UWELL_20221222_174116 ]\n",
      "On process Copy Images from inter frame Folder -->> [ /media/SSD/Frame_Inter_rheology2023/Frame_Inter/FILM_Model/DI/P0100_D0_30HZ_20XINF_UWELL_20221222_174116-inter ]\n",
      "( 1.)  process Copy Images To Sequence Folder -->> [ /media/SSD/Frame_Inter_rheology2023/Frame_Inter/FILM_Model/DI/P0100_D0_30HZ_20XINF_UWELL_20221222_174116-sequence ]\n",
      "------------------------------------------------------------------------------------------------------------------------\n",
      "On process Copy Images from Original Folder -->> [ /media/SSD/rheology2023/DI/P0100_D0_30HZ_20XINF_UWELL_20221222_182704 ]\n",
      "On process Copy Images from inter frame Folder -->> [ /media/SSD/Frame_Inter_rheology2023/Frame_Inter/FILM_Model/DI/P0100_D0_30HZ_20XINF_UWELL_20221222_182704-inter ]\n",
      "( 2.)  process Copy Images To Sequence Folder -->> [ /media/SSD/Frame_Inter_rheology2023/Frame_Inter/FILM_Model/DI/P0100_D0_30HZ_20XINF_UWELL_20221222_182704-sequence ]\n",
      "------------------------------------------------------------------------------------------------------------------------\n",
      "On process Copy Images from Original Folder -->> [ /media/SSD/rheology2023/DI/P0100_D0_30HZ_20XINF_UWELL_20221223_122706 ]\n",
      "On process Copy Images from inter frame Folder -->> [ /media/SSD/Frame_Inter_rheology2023/Frame_Inter/FILM_Model/DI/P0100_D0_30HZ_20XINF_UWELL_20221223_122706-inter ]\n",
      "( 3.)  process Copy Images To Sequence Folder -->> [ /media/SSD/Frame_Inter_rheology2023/Frame_Inter/FILM_Model/DI/P0100_D0_30HZ_20XINF_UWELL_20221223_122706-sequence ]\n",
      "------------------------------------------------------------------------------------------------------------------------\n",
      "On process Copy Images from Original Folder -->> [ /media/SSD/rheology2023/DI/P0100_D0_30HZ_20XINF_UWELL_20221222_214317 ]\n",
      "On process Copy Images from inter frame Folder -->> [ /media/SSD/Frame_Inter_rheology2023/Frame_Inter/FILM_Model/DI/P0100_D0_30HZ_20XINF_UWELL_20221222_214317-inter ]\n",
      "( 4.)  process Copy Images To Sequence Folder -->> [ /media/SSD/Frame_Inter_rheology2023/Frame_Inter/FILM_Model/DI/P0100_D0_30HZ_20XINF_UWELL_20221222_214317-sequence ]\n",
      "------------------------------------------------------------------------------------------------------------------------\n",
      "On process Copy Images from Original Folder -->> [ /media/SSD/rheology2023/DI/P0100_D0_30HZ_20XINF_UWELL_20221222_215050 ]\n",
      "On process Copy Images from inter frame Folder -->> [ /media/SSD/Frame_Inter_rheology2023/Frame_Inter/FILM_Model/DI/P0100_D0_30HZ_20XINF_UWELL_20221222_215050-inter ]\n",
      "( 5.)  process Copy Images To Sequence Folder -->> [ /media/SSD/Frame_Inter_rheology2023/Frame_Inter/FILM_Model/DI/P0100_D0_30HZ_20XINF_UWELL_20221222_215050-sequence ]\n",
      "------------------------------------------------------------------------------------------------------------------------\n",
      "On process Copy Images from Original Folder -->> [ /media/SSD/rheology2023/SalivaTU/SAL00_D0_30HZ_20XINF_UWELL_20221226_121950 ]\n",
      "On process Copy Images from inter frame Folder -->> [ /media/SSD/Frame_Inter_rheology2023/Frame_Inter/FILM_Model/SalivaTU/SAL00_D0_30HZ_20XINF_UWELL_20221226_121950-inter ]\n",
      "( 6.)  process Copy Images To Sequence Folder -->> [ /media/SSD/Frame_Inter_rheology2023/Frame_Inter/FILM_Model/SalivaTU/SAL00_D0_30HZ_20XINF_UWELL_20221226_121950-sequence ]\n",
      "------------------------------------------------------------------------------------------------------------------------\n",
      "On process Copy Images from Original Folder -->> [ /media/SSD/rheology2023/SalivaTU/SAL00_D0_30HZ_20XINF_UWELL_20221229_055220 ]\n",
      "On process Copy Images from inter frame Folder -->> [ /media/SSD/Frame_Inter_rheology2023/Frame_Inter/FILM_Model/SalivaTU/SAL00_D0_30HZ_20XINF_UWELL_20221229_055220-inter ]\n",
      "( 7.)  process Copy Images To Sequence Folder -->> [ /media/SSD/Frame_Inter_rheology2023/Frame_Inter/FILM_Model/SalivaTU/SAL00_D0_30HZ_20XINF_UWELL_20221229_055220-sequence ]\n",
      "------------------------------------------------------------------------------------------------------------------------\n",
      "On process Copy Images from Original Folder -->> [ /media/SSD/rheology2023/SalivaTU/SAL00_D0_30HZ_20XINF_UWELL_20221226_123202 ]\n",
      "On process Copy Images from inter frame Folder -->> [ /media/SSD/Frame_Inter_rheology2023/Frame_Inter/FILM_Model/SalivaTU/SAL00_D0_30HZ_20XINF_UWELL_20221226_123202-inter ]\n",
      "( 8.)  process Copy Images To Sequence Folder -->> [ /media/SSD/Frame_Inter_rheology2023/Frame_Inter/FILM_Model/SalivaTU/SAL00_D0_30HZ_20XINF_UWELL_20221226_123202-sequence ]\n",
      "------------------------------------------------------------------------------------------------------------------------\n",
      "On process Copy Images from Original Folder -->> [ /media/SSD/rheology2023/SalivaTU/SAL00_D0_30HZ_20XINF_UWELL_20221226_120633 ]\n",
      "On process Copy Images from inter frame Folder -->> [ /media/SSD/Frame_Inter_rheology2023/Frame_Inter/FILM_Model/SalivaTU/SAL00_D0_30HZ_20XINF_UWELL_20221226_120633-inter ]\n",
      "( 9.)  process Copy Images To Sequence Folder -->> [ /media/SSD/Frame_Inter_rheology2023/Frame_Inter/FILM_Model/SalivaTU/SAL00_D0_30HZ_20XINF_UWELL_20221226_120633-sequence ]\n",
      "------------------------------------------------------------------------------------------------------------------------\n",
      "On process Copy Images from Original Folder -->> [ /media/SSD/rheology2023/SalivaTU/SAL00_D0_30HZ_20XINF_UWELL_20221229_055529 ]\n",
      "On process Copy Images from inter frame Folder -->> [ /media/SSD/Frame_Inter_rheology2023/Frame_Inter/FILM_Model/SalivaTU/SAL00_D0_30HZ_20XINF_UWELL_20221229_055529-inter ]\n",
      "( 10.)  process Copy Images To Sequence Folder -->> [ /media/SSD/Frame_Inter_rheology2023/Frame_Inter/FILM_Model/SalivaTU/SAL00_D0_30HZ_20XINF_UWELL_20221229_055529-sequence ]\n",
      "------------------------------------------------------------------------------------------------------------------------\n",
      "On process Copy Images from Original Folder -->> [ /media/SSD/rheology2023/Glycerol/GLY10/GLY10P100_D0_30HZ_20XINF_UWELL_20221230_072204 ]\n",
      "On process Copy Images from inter frame Folder -->> [ /media/SSD/Frame_Inter_rheology2023/Frame_Inter/FILM_Model/Glycerol/GLY10/GLY10P100_D0_30HZ_20XINF_UWELL_20221230_072204-inter ]\n",
      "( 11.)  process Copy Images To Sequence Folder -->> [ /media/SSD/Frame_Inter_rheology2023/Frame_Inter/FILM_Model/Glycerol/GLY10/GLY10P100_D0_30HZ_20XINF_UWELL_20221230_072204-sequence ]\n",
      "------------------------------------------------------------------------------------------------------------------------\n",
      "On process Copy Images from Original Folder -->> [ /media/SSD/rheology2023/Glycerol/GLY10/GLY10P100_D0_30HZ_20XINF_UWELL_20221230_074912 ]\n",
      "On process Copy Images from inter frame Folder -->> [ /media/SSD/Frame_Inter_rheology2023/Frame_Inter/FILM_Model/Glycerol/GLY10/GLY10P100_D0_30HZ_20XINF_UWELL_20221230_074912-inter ]\n",
      "( 12.)  process Copy Images To Sequence Folder -->> [ /media/SSD/Frame_Inter_rheology2023/Frame_Inter/FILM_Model/Glycerol/GLY10/GLY10P100_D0_30HZ_20XINF_UWELL_20221230_074912-sequence ]\n",
      "------------------------------------------------------------------------------------------------------------------------\n",
      "On process Copy Images from Original Folder -->> [ /media/SSD/rheology2023/Glycerol/GLY10/GLY10P100_D0_30HZ_20XINF_UWELL_20221229_204812 ]\n",
      "On process Copy Images from inter frame Folder -->> [ /media/SSD/Frame_Inter_rheology2023/Frame_Inter/FILM_Model/Glycerol/GLY10/GLY10P100_D0_30HZ_20XINF_UWELL_20221229_204812-inter ]\n",
      "( 13.)  process Copy Images To Sequence Folder -->> [ /media/SSD/Frame_Inter_rheology2023/Frame_Inter/FILM_Model/Glycerol/GLY10/GLY10P100_D0_30HZ_20XINF_UWELL_20221229_204812-sequence ]\n",
      "------------------------------------------------------------------------------------------------------------------------\n",
      "On process Copy Images from Original Folder -->> [ /media/SSD/rheology2023/Glycerol/GLY10/GLY10P100_D0_30HZ_20XINF_UWELL_20221230_071956 ]\n",
      "On process Copy Images from inter frame Folder -->> [ /media/SSD/Frame_Inter_rheology2023/Frame_Inter/FILM_Model/Glycerol/GLY10/GLY10P100_D0_30HZ_20XINF_UWELL_20221230_071956-inter ]\n",
      "( 14.)  process Copy Images To Sequence Folder -->> [ /media/SSD/Frame_Inter_rheology2023/Frame_Inter/FILM_Model/Glycerol/GLY10/GLY10P100_D0_30HZ_20XINF_UWELL_20221230_071956-sequence ]\n",
      "------------------------------------------------------------------------------------------------------------------------\n",
      "On process Copy Images from Original Folder -->> [ /media/SSD/rheology2023/Glycerol/GLY10/GLY10P100_D0_30HZ_20XINF_UWELL_20221229_193350 ]\n",
      "On process Copy Images from inter frame Folder -->> [ /media/SSD/Frame_Inter_rheology2023/Frame_Inter/FILM_Model/Glycerol/GLY10/GLY10P100_D0_30HZ_20XINF_UWELL_20221229_193350-inter ]\n"
     ]
    },
    {
     "name": "stdout",
     "output_type": "stream",
     "text": [
      "( 15.)  process Copy Images To Sequence Folder -->> [ /media/SSD/Frame_Inter_rheology2023/Frame_Inter/FILM_Model/Glycerol/GLY10/GLY10P100_D0_30HZ_20XINF_UWELL_20221229_193350-sequence ]\n",
      "------------------------------------------------------------------------------------------------------------------------\n",
      "On process Copy Images from Original Folder -->> [ /media/SSD/rheology2023/Glycerol/GLY30/GLY30P100_D0_30HZ_20XINF_UWELL_20221229_155527 ]\n",
      "On process Copy Images from inter frame Folder -->> [ /media/SSD/Frame_Inter_rheology2023/Frame_Inter/FILM_Model/Glycerol/GLY30/GLY30P100_D0_30HZ_20XINF_UWELL_20221229_155527-inter ]\n",
      "( 16.)  process Copy Images To Sequence Folder -->> [ /media/SSD/Frame_Inter_rheology2023/Frame_Inter/FILM_Model/Glycerol/GLY30/GLY30P100_D0_30HZ_20XINF_UWELL_20221229_155527-sequence ]\n",
      "------------------------------------------------------------------------------------------------------------------------\n",
      "On process Copy Images from Original Folder -->> [ /media/SSD/rheology2023/Glycerol/GLY30/GLY30P100_D0_30HZ_20XINF_UWELL_20221228_161452 ]\n",
      "On process Copy Images from inter frame Folder -->> [ /media/SSD/Frame_Inter_rheology2023/Frame_Inter/FILM_Model/Glycerol/GLY30/GLY30P100_D0_30HZ_20XINF_UWELL_20221228_161452-inter ]\n",
      "( 17.)  process Copy Images To Sequence Folder -->> [ /media/SSD/Frame_Inter_rheology2023/Frame_Inter/FILM_Model/Glycerol/GLY30/GLY30P100_D0_30HZ_20XINF_UWELL_20221228_161452-sequence ]\n",
      "------------------------------------------------------------------------------------------------------------------------\n",
      "On process Copy Images from Original Folder -->> [ /media/SSD/rheology2023/Glycerol/GLY30/GLY30P100_D0_30HZ_20XINF_UWELL_20221228_145100 ]\n",
      "On process Copy Images from inter frame Folder -->> [ /media/SSD/Frame_Inter_rheology2023/Frame_Inter/FILM_Model/Glycerol/GLY30/GLY30P100_D0_30HZ_20XINF_UWELL_20221228_145100-inter ]\n",
      "( 18.)  process Copy Images To Sequence Folder -->> [ /media/SSD/Frame_Inter_rheology2023/Frame_Inter/FILM_Model/Glycerol/GLY30/GLY30P100_D0_30HZ_20XINF_UWELL_20221228_145100-sequence ]\n",
      "------------------------------------------------------------------------------------------------------------------------\n",
      "On process Copy Images from Original Folder -->> [ /media/SSD/rheology2023/Glycerol/GLY30/GLY30P100_D0_30HZ_20XINF_UWELL_20221229_164322 ]\n",
      "On process Copy Images from inter frame Folder -->> [ /media/SSD/Frame_Inter_rheology2023/Frame_Inter/FILM_Model/Glycerol/GLY30/GLY30P100_D0_30HZ_20XINF_UWELL_20221229_164322-inter ]\n",
      "( 19.)  process Copy Images To Sequence Folder -->> [ /media/SSD/Frame_Inter_rheology2023/Frame_Inter/FILM_Model/Glycerol/GLY30/GLY30P100_D0_30HZ_20XINF_UWELL_20221229_164322-sequence ]\n",
      "------------------------------------------------------------------------------------------------------------------------\n",
      "On process Copy Images from Original Folder -->> [ /media/SSD/rheology2023/Glycerol/GLY30/GLY30P100_D0_30HZ_20XINF_UWELL_20221228_151430 ]\n",
      "On process Copy Images from inter frame Folder -->> [ /media/SSD/Frame_Inter_rheology2023/Frame_Inter/FILM_Model/Glycerol/GLY30/GLY30P100_D0_30HZ_20XINF_UWELL_20221228_151430-inter ]\n",
      "( 20.)  process Copy Images To Sequence Folder -->> [ /media/SSD/Frame_Inter_rheology2023/Frame_Inter/FILM_Model/Glycerol/GLY30/GLY30P100_D0_30HZ_20XINF_UWELL_20221228_151430-sequence ]\n",
      "------------------------------------------------------------------------------------------------------------------------\n",
      "On process Copy Images from Original Folder -->> [ /media/SSD/rheology2023/Glycerol/GLY60/GLY60P100_D0_30HZ_20XINF_UWELL_20221228_063932 ]\n",
      "On process Copy Images from inter frame Folder -->> [ /media/SSD/Frame_Inter_rheology2023/Frame_Inter/FILM_Model/Glycerol/GLY60/GLY60P100_D0_30HZ_20XINF_UWELL_20221228_063932-inter ]\n",
      "( 21.)  process Copy Images To Sequence Folder -->> [ /media/SSD/Frame_Inter_rheology2023/Frame_Inter/FILM_Model/Glycerol/GLY60/GLY60P100_D0_30HZ_20XINF_UWELL_20221228_063932-sequence ]\n",
      "------------------------------------------------------------------------------------------------------------------------\n",
      "On process Copy Images from Original Folder -->> [ /media/SSD/rheology2023/Glycerol/GLY60/GLY60P100_D0_30HZ_20XINF_UWELL_20221228_090816 ]\n",
      "On process Copy Images from inter frame Folder -->> [ /media/SSD/Frame_Inter_rheology2023/Frame_Inter/FILM_Model/Glycerol/GLY60/GLY60P100_D0_30HZ_20XINF_UWELL_20221228_090816-inter ]\n",
      "( 22.)  process Copy Images To Sequence Folder -->> [ /media/SSD/Frame_Inter_rheology2023/Frame_Inter/FILM_Model/Glycerol/GLY60/GLY60P100_D0_30HZ_20XINF_UWELL_20221228_090816-sequence ]\n",
      "------------------------------------------------------------------------------------------------------------------------\n",
      "On process Copy Images from Original Folder -->> [ /media/SSD/rheology2023/Glycerol/GLY60/GLY60P100_D0_30HZ_20XINF_UWELL_20221228_064454 ]\n",
      "On process Copy Images from inter frame Folder -->> [ /media/SSD/Frame_Inter_rheology2023/Frame_Inter/FILM_Model/Glycerol/GLY60/GLY60P100_D0_30HZ_20XINF_UWELL_20221228_064454-inter ]\n",
      "( 23.)  process Copy Images To Sequence Folder -->> [ /media/SSD/Frame_Inter_rheology2023/Frame_Inter/FILM_Model/Glycerol/GLY60/GLY60P100_D0_30HZ_20XINF_UWELL_20221228_064454-sequence ]\n",
      "------------------------------------------------------------------------------------------------------------------------\n",
      "On process Copy Images from Original Folder -->> [ /media/SSD/rheology2023/Glycerol/GLY60/GLY60P100_D0_30HZ_20XINF_UWELL_20221228_082049 ]\n",
      "On process Copy Images from inter frame Folder -->> [ /media/SSD/Frame_Inter_rheology2023/Frame_Inter/FILM_Model/Glycerol/GLY60/GLY60P100_D0_30HZ_20XINF_UWELL_20221228_082049-inter ]\n",
      "( 24.)  process Copy Images To Sequence Folder -->> [ /media/SSD/Frame_Inter_rheology2023/Frame_Inter/FILM_Model/Glycerol/GLY60/GLY60P100_D0_30HZ_20XINF_UWELL_20221228_082049-sequence ]\n",
      "------------------------------------------------------------------------------------------------------------------------\n",
      "On process Copy Images from Original Folder -->> [ /media/SSD/rheology2023/Glycerol/GLY60/GLY60P100_D0_30HZ_20XINF_UWELL_20221228_065231 ]\n",
      "On process Copy Images from inter frame Folder -->> [ /media/SSD/Frame_Inter_rheology2023/Frame_Inter/FILM_Model/Glycerol/GLY60/GLY60P100_D0_30HZ_20XINF_UWELL_20221228_065231-inter ]\n",
      "( 25.)  process Copy Images To Sequence Folder -->> [ /media/SSD/Frame_Inter_rheology2023/Frame_Inter/FILM_Model/Glycerol/GLY60/GLY60P100_D0_30HZ_20XINF_UWELL_20221228_065231-sequence ]\n",
      "------------------------------------------------------------------------------------------------------------------------\n",
      "On process Copy Images from Original Folder -->> [ /media/SSD/rheology2023/Glycerol/GLY20/GLY20P100_D0_30HZ_20XINF_UWELL_20221227_100941 ]\n",
      "On process Copy Images from inter frame Folder -->> [ /media/SSD/Frame_Inter_rheology2023/Frame_Inter/FILM_Model/Glycerol/GLY20/GLY20P100_D0_30HZ_20XINF_UWELL_20221227_100941-inter ]\n",
      "( 26.)  process Copy Images To Sequence Folder -->> [ /media/SSD/Frame_Inter_rheology2023/Frame_Inter/FILM_Model/Glycerol/GLY20/GLY20P100_D0_30HZ_20XINF_UWELL_20221227_100941-sequence ]\n",
      "------------------------------------------------------------------------------------------------------------------------\n",
      "On process Copy Images from Original Folder -->> [ /media/SSD/rheology2023/Glycerol/GLY20/GLY20P100_D0_30HZ_20XINF_UWELL_20221227_160237 ]\n",
      "On process Copy Images from inter frame Folder -->> [ /media/SSD/Frame_Inter_rheology2023/Frame_Inter/FILM_Model/Glycerol/GLY20/GLY20P100_D0_30HZ_20XINF_UWELL_20221227_160237-inter ]\n",
      "( 27.)  process Copy Images To Sequence Folder -->> [ /media/SSD/Frame_Inter_rheology2023/Frame_Inter/FILM_Model/Glycerol/GLY20/GLY20P100_D0_30HZ_20XINF_UWELL_20221227_160237-sequence ]\n",
      "------------------------------------------------------------------------------------------------------------------------\n",
      "On process Copy Images from Original Folder -->> [ /media/SSD/rheology2023/Glycerol/GLY20/GLY20P100_D0_30HZ_20XINF_UWELL_20221227_093937 ]\n",
      "On process Copy Images from inter frame Folder -->> [ /media/SSD/Frame_Inter_rheology2023/Frame_Inter/FILM_Model/Glycerol/GLY20/GLY20P100_D0_30HZ_20XINF_UWELL_20221227_093937-inter ]\n",
      "( 28.)  process Copy Images To Sequence Folder -->> [ /media/SSD/Frame_Inter_rheology2023/Frame_Inter/FILM_Model/Glycerol/GLY20/GLY20P100_D0_30HZ_20XINF_UWELL_20221227_093937-sequence ]\n",
      "------------------------------------------------------------------------------------------------------------------------\n",
      "On process Copy Images from Original Folder -->> [ /media/SSD/rheology2023/Glycerol/GLY20/GLY20P100_D0_30HZ_20XINF_UWELL_20221227_155531 ]\n",
      "On process Copy Images from inter frame Folder -->> [ /media/SSD/Frame_Inter_rheology2023/Frame_Inter/FILM_Model/Glycerol/GLY20/GLY20P100_D0_30HZ_20XINF_UWELL_20221227_155531-inter ]\n"
     ]
    },
    {
     "name": "stdout",
     "output_type": "stream",
     "text": [
      "( 29.)  process Copy Images To Sequence Folder -->> [ /media/SSD/Frame_Inter_rheology2023/Frame_Inter/FILM_Model/Glycerol/GLY20/GLY20P100_D0_30HZ_20XINF_UWELL_20221227_155531-sequence ]\n",
      "------------------------------------------------------------------------------------------------------------------------\n",
      "On process Copy Images from Original Folder -->> [ /media/SSD/rheology2023/Glycerol/GLY20/GLY20P100_D0_30HZ_20XINF_UWELL_20221227_091417 ]\n",
      "On process Copy Images from inter frame Folder -->> [ /media/SSD/Frame_Inter_rheology2023/Frame_Inter/FILM_Model/Glycerol/GLY20/GLY20P100_D0_30HZ_20XINF_UWELL_20221227_091417-inter ]\n",
      "( 30.)  process Copy Images To Sequence Folder -->> [ /media/SSD/Frame_Inter_rheology2023/Frame_Inter/FILM_Model/Glycerol/GLY20/GLY20P100_D0_30HZ_20XINF_UWELL_20221227_091417-sequence ]\n",
      "------------------------------------------------------------------------------------------------------------------------\n",
      "On process Copy Images from Original Folder -->> [ /media/SSD/rheology2023/Glycerol/GLY40/GLY40P100_D0_30HZ_20XINF_UWELL_20221227_203150 ]\n",
      "On process Copy Images from inter frame Folder -->> [ /media/SSD/Frame_Inter_rheology2023/Frame_Inter/FILM_Model/Glycerol/GLY40/GLY40P100_D0_30HZ_20XINF_UWELL_20221227_203150-inter ]\n",
      "( 31.)  process Copy Images To Sequence Folder -->> [ /media/SSD/Frame_Inter_rheology2023/Frame_Inter/FILM_Model/Glycerol/GLY40/GLY40P100_D0_30HZ_20XINF_UWELL_20221227_203150-sequence ]\n",
      "------------------------------------------------------------------------------------------------------------------------\n",
      "On process Copy Images from Original Folder -->> [ /media/SSD/rheology2023/Glycerol/GLY40/GLY40P100_D0_30HZ_20XINF_UWELL_20221227_195610 ]\n",
      "On process Copy Images from inter frame Folder -->> [ /media/SSD/Frame_Inter_rheology2023/Frame_Inter/FILM_Model/Glycerol/GLY40/GLY40P100_D0_30HZ_20XINF_UWELL_20221227_195610-inter ]\n",
      "( 32.)  process Copy Images To Sequence Folder -->> [ /media/SSD/Frame_Inter_rheology2023/Frame_Inter/FILM_Model/Glycerol/GLY40/GLY40P100_D0_30HZ_20XINF_UWELL_20221227_195610-sequence ]\n",
      "------------------------------------------------------------------------------------------------------------------------\n",
      "On process Copy Images from Original Folder -->> [ /media/SSD/rheology2023/Glycerol/GLY40/GLY40P100_D0_30HZ_20XINF_UWELL_20221230_091704 ]\n",
      "On process Copy Images from inter frame Folder -->> [ /media/SSD/Frame_Inter_rheology2023/Frame_Inter/FILM_Model/Glycerol/GLY40/GLY40P100_D0_30HZ_20XINF_UWELL_20221230_091704-inter ]\n",
      "( 33.)  process Copy Images To Sequence Folder -->> [ /media/SSD/Frame_Inter_rheology2023/Frame_Inter/FILM_Model/Glycerol/GLY40/GLY40P100_D0_30HZ_20XINF_UWELL_20221230_091704-sequence ]\n",
      "------------------------------------------------------------------------------------------------------------------------\n",
      "On process Copy Images from Original Folder -->> [ /media/SSD/rheology2023/Glycerol/GLY40/GLY40P100_D0_30HZ_20XINF_UWELL_20221227_195148 ]\n",
      "On process Copy Images from inter frame Folder -->> [ /media/SSD/Frame_Inter_rheology2023/Frame_Inter/FILM_Model/Glycerol/GLY40/GLY40P100_D0_30HZ_20XINF_UWELL_20221227_195148-inter ]\n",
      "( 34.)  process Copy Images To Sequence Folder -->> [ /media/SSD/Frame_Inter_rheology2023/Frame_Inter/FILM_Model/Glycerol/GLY40/GLY40P100_D0_30HZ_20XINF_UWELL_20221227_195148-sequence ]\n",
      "------------------------------------------------------------------------------------------------------------------------\n",
      "On process Copy Images from Original Folder -->> [ /media/SSD/rheology2023/Glycerol/GLY40/GLY40P100_D0_30HZ_20XINF_UWELL_20221227_193632 ]\n",
      "On process Copy Images from inter frame Folder -->> [ /media/SSD/Frame_Inter_rheology2023/Frame_Inter/FILM_Model/Glycerol/GLY40/GLY40P100_D0_30HZ_20XINF_UWELL_20221227_193632-inter ]\n",
      "( 35.)  process Copy Images To Sequence Folder -->> [ /media/SSD/Frame_Inter_rheology2023/Frame_Inter/FILM_Model/Glycerol/GLY40/GLY40P100_D0_30HZ_20XINF_UWELL_20221227_193632-sequence ]\n",
      "------------------------------------------------------------------------------------------------------------------------\n",
      "On process Copy Images from Original Folder -->> [ /media/SSD/rheology2023/Glycerol/GLY80/GLY80P100_D0_30HZ_20XINF_UWELL_20221228_115038 ]\n",
      "On process Copy Images from inter frame Folder -->> [ /media/SSD/Frame_Inter_rheology2023/Frame_Inter/FILM_Model/Glycerol/GLY80/GLY80P100_D0_30HZ_20XINF_UWELL_20221228_115038-inter ]\n",
      "( 36.)  process Copy Images To Sequence Folder -->> [ /media/SSD/Frame_Inter_rheology2023/Frame_Inter/FILM_Model/Glycerol/GLY80/GLY80P100_D0_30HZ_20XINF_UWELL_20221228_115038-sequence ]\n",
      "------------------------------------------------------------------------------------------------------------------------\n",
      "On process Copy Images from Original Folder -->> [ /media/SSD/rheology2023/Glycerol/GLY80/GLY80P100_D0_30HZ_20XINF_UWELL_20221228_122311 ]\n",
      "On process Copy Images from inter frame Folder -->> [ /media/SSD/Frame_Inter_rheology2023/Frame_Inter/FILM_Model/Glycerol/GLY80/GLY80P100_D0_30HZ_20XINF_UWELL_20221228_122311-inter ]\n",
      "( 37.)  process Copy Images To Sequence Folder -->> [ /media/SSD/Frame_Inter_rheology2023/Frame_Inter/FILM_Model/Glycerol/GLY80/GLY80P100_D0_30HZ_20XINF_UWELL_20221228_122311-sequence ]\n",
      "------------------------------------------------------------------------------------------------------------------------\n",
      "On process Copy Images from Original Folder -->> [ /media/SSD/rheology2023/Glycerol/GLY80/GLY80P100_D0_30HZ_20XINF_UWELL_20221228_115310 ]\n",
      "On process Copy Images from inter frame Folder -->> [ /media/SSD/Frame_Inter_rheology2023/Frame_Inter/FILM_Model/Glycerol/GLY80/GLY80P100_D0_30HZ_20XINF_UWELL_20221228_115310-inter ]\n",
      "( 38.)  process Copy Images To Sequence Folder -->> [ /media/SSD/Frame_Inter_rheology2023/Frame_Inter/FILM_Model/Glycerol/GLY80/GLY80P100_D0_30HZ_20XINF_UWELL_20221228_115310-sequence ]\n",
      "------------------------------------------------------------------------------------------------------------------------\n",
      "On process Copy Images from Original Folder -->> [ /media/SSD/rheology2023/Glycerol/GLY80/GLY80P100_D0_30HZ_20XINF_UWELL_20221228_121932 ]\n",
      "On process Copy Images from inter frame Folder -->> [ /media/SSD/Frame_Inter_rheology2023/Frame_Inter/FILM_Model/Glycerol/GLY80/GLY80P100_D0_30HZ_20XINF_UWELL_20221228_121932-inter ]\n",
      "( 39.)  process Copy Images To Sequence Folder -->> [ /media/SSD/Frame_Inter_rheology2023/Frame_Inter/FILM_Model/Glycerol/GLY80/GLY80P100_D0_30HZ_20XINF_UWELL_20221228_121932-sequence ]\n",
      "------------------------------------------------------------------------------------------------------------------------\n",
      "On process Copy Images from Original Folder -->> [ /media/SSD/rheology2023/Glycerol/GLY80/GLY80P100_D0_30HZ_20XINF_UWELL_20221228_115540 ]\n",
      "On process Copy Images from inter frame Folder -->> [ /media/SSD/Frame_Inter_rheology2023/Frame_Inter/FILM_Model/Glycerol/GLY80/GLY80P100_D0_30HZ_20XINF_UWELL_20221228_115540-inter ]\n",
      "( 40.)  process Copy Images To Sequence Folder -->> [ /media/SSD/Frame_Inter_rheology2023/Frame_Inter/FILM_Model/Glycerol/GLY80/GLY80P100_D0_30HZ_20XINF_UWELL_20221228_115540-sequence ]\n",
      "------------------------------------------------------------------------------------------------------------------------\n"
     ]
    }
   ],
   "source": [
    "import glob\n",
    "import shutil as sh\n",
    "\n",
    "for i in range(len(FolderPath)):\n",
    "    FolderPath0 = FolderPath[i]\n",
    "    img_ori = glob.glob(f\"{FolderPath0}/*.jpg\")\n",
    "    img_ori.sort()\n",
    "    print(f'On process Copy Images from Original Folder -->> [ {FolderPath0} ]')\n",
    "    folderNew = FolderPath0.replace(\"rheology2023\", f\"Frame_Inter_rheology2023/Frame_Inter/{Model_inter}\")\n",
    "    inter = folderNew+'-inter'  ##--Folder2save\n",
    "    img_inter = glob.glob(f\"{inter}/*.png\")\n",
    "    img_inter.sort()\n",
    "    print(f'On process Copy Images from inter frame Folder -->> [ {inter} ]')\n",
    "    Folder2cre = folderNew+'-sequence'  ##--Folder2save\n",
    "    for img0 in img_ori:\n",
    "        imgName0 = img0.split('/')[-1]\n",
    "        sh.copy(img0, \"{}/{}\".format(Folder2cre ,imgName0))\n",
    "    for img1 in img_inter:\n",
    "        imgName1 = img1.split('/')[-1]\n",
    "        sh.copy(img1, \"{}/{}\".format(Folder2cre ,imgName1))\n",
    "    print(f'( {i+1}.)  process Copy Images To Sequence Folder -->> [ {Folder2cre} ]')\n",
    "    print('-'*120)"
   ]
  },
  {
   "cell_type": "code",
   "execution_count": null,
   "id": "cc2b5871",
   "metadata": {},
   "outputs": [],
   "source": []
  },
  {
   "cell_type": "code",
   "execution_count": null,
   "id": "1c954ac9",
   "metadata": {},
   "outputs": [],
   "source": []
  },
  {
   "cell_type": "code",
   "execution_count": null,
   "id": "e3907405",
   "metadata": {},
   "outputs": [],
   "source": []
  },
  {
   "cell_type": "code",
   "execution_count": null,
   "id": "8dfbe5f3",
   "metadata": {},
   "outputs": [],
   "source": []
  },
  {
   "cell_type": "code",
   "execution_count": null,
   "id": "b8bab1bb",
   "metadata": {},
   "outputs": [],
   "source": []
  },
  {
   "cell_type": "code",
   "execution_count": null,
   "id": "047fd61b",
   "metadata": {},
   "outputs": [],
   "source": []
  }
 ],
 "metadata": {
  "kernelspec": {
   "display_name": "FILM",
   "language": "python",
   "name": "film"
  },
  "language_info": {
   "codemirror_mode": {
    "name": "ipython",
    "version": 3
   },
   "file_extension": ".py",
   "mimetype": "text/x-python",
   "name": "python",
   "nbconvert_exporter": "python",
   "pygments_lexer": "ipython3",
   "version": "3.9.15"
  }
 },
 "nbformat": 4,
 "nbformat_minor": 5
}
